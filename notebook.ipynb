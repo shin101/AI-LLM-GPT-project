{
 "cells": [
  {
   "cell_type": "code",
   "execution_count": 1,
   "metadata": {},
   "outputs": [
    {
     "ename": "ValidationError",
     "evalue": "1 validation error for GPT4All\n__root__\n  Failed to retrieve model (type=value_error)",
     "output_type": "error",
     "traceback": [
      "\u001b[0;31m---------------------------------------------------------------------------\u001b[0m",
      "\u001b[0;31mValidationError\u001b[0m                           Traceback (most recent call last)",
      "\u001b[1;32m/Users/js/Desktop/nomad coders/fullstack-gpt/notebook.ipynb Cell 1\u001b[0m line \u001b[0;36m6\n\u001b[1;32m      <a href='vscode-notebook-cell:/Users/js/Desktop/nomad%20coders/fullstack-gpt/notebook.ipynb#W0sZmlsZQ%3D%3D?line=1'>2</a>\u001b[0m \u001b[39mfrom\u001b[39;00m \u001b[39mlangchain\u001b[39;00m\u001b[39m.\u001b[39;00m\u001b[39mprompts\u001b[39;00m \u001b[39mimport\u001b[39;00m PromptTemplate\n\u001b[1;32m      <a href='vscode-notebook-cell:/Users/js/Desktop/nomad%20coders/fullstack-gpt/notebook.ipynb#W0sZmlsZQ%3D%3D?line=3'>4</a>\u001b[0m prompt \u001b[39m=\u001b[39m PromptTemplate\u001b[39m.\u001b[39mfrom_template(\u001b[39m\"\u001b[39m\u001b[39mA \u001b[39m\u001b[39m{word}\u001b[39;00m\u001b[39m is a\u001b[39m\u001b[39m\"\u001b[39m)\n\u001b[0;32m----> <a href='vscode-notebook-cell:/Users/js/Desktop/nomad%20coders/fullstack-gpt/notebook.ipynb#W0sZmlsZQ%3D%3D?line=5'>6</a>\u001b[0m llm \u001b[39m=\u001b[39m GPT4All(\n\u001b[1;32m      <a href='vscode-notebook-cell:/Users/js/Desktop/nomad%20coders/fullstack-gpt/notebook.ipynb#W0sZmlsZQ%3D%3D?line=6'>7</a>\u001b[0m model\u001b[39m=\u001b[39;49m\u001b[39m\"\u001b[39;49m\u001b[39m./falcon.bin\u001b[39;49m\u001b[39m\"\u001b[39;49m,\n\u001b[1;32m      <a href='vscode-notebook-cell:/Users/js/Desktop/nomad%20coders/fullstack-gpt/notebook.ipynb#W0sZmlsZQ%3D%3D?line=7'>8</a>\u001b[0m )\n\u001b[1;32m     <a href='vscode-notebook-cell:/Users/js/Desktop/nomad%20coders/fullstack-gpt/notebook.ipynb#W0sZmlsZQ%3D%3D?line=9'>10</a>\u001b[0m chain \u001b[39m=\u001b[39m prompt \u001b[39m|\u001b[39m llm\n\u001b[1;32m     <a href='vscode-notebook-cell:/Users/js/Desktop/nomad%20coders/fullstack-gpt/notebook.ipynb#W0sZmlsZQ%3D%3D?line=11'>12</a>\u001b[0m chain\u001b[39m.\u001b[39minvoke({\n\u001b[1;32m     <a href='vscode-notebook-cell:/Users/js/Desktop/nomad%20coders/fullstack-gpt/notebook.ipynb#W0sZmlsZQ%3D%3D?line=12'>13</a>\u001b[0m     \u001b[39m\"\u001b[39m\u001b[39mword\u001b[39m\u001b[39m\"\u001b[39m: \u001b[39m\"\u001b[39m\u001b[39mtoothpick\u001b[39m\u001b[39m\"\u001b[39m\n\u001b[1;32m     <a href='vscode-notebook-cell:/Users/js/Desktop/nomad%20coders/fullstack-gpt/notebook.ipynb#W0sZmlsZQ%3D%3D?line=13'>14</a>\u001b[0m })\n",
      "File \u001b[0;32m~/Desktop/nomad coders/fullstack-gpt/env/lib/python3.10/site-packages/langchain/load/serializable.py:97\u001b[0m, in \u001b[0;36mSerializable.__init__\u001b[0;34m(self, **kwargs)\u001b[0m\n\u001b[1;32m     96\u001b[0m \u001b[39mdef\u001b[39;00m \u001b[39m__init__\u001b[39m(\u001b[39mself\u001b[39m, \u001b[39m*\u001b[39m\u001b[39m*\u001b[39mkwargs: Any) \u001b[39m-\u001b[39m\u001b[39m>\u001b[39m \u001b[39mNone\u001b[39;00m:\n\u001b[0;32m---> 97\u001b[0m     \u001b[39msuper\u001b[39;49m()\u001b[39m.\u001b[39;49m\u001b[39m__init__\u001b[39;49m(\u001b[39m*\u001b[39;49m\u001b[39m*\u001b[39;49mkwargs)\n\u001b[1;32m     98\u001b[0m     \u001b[39mself\u001b[39m\u001b[39m.\u001b[39m_lc_kwargs \u001b[39m=\u001b[39m kwargs\n",
      "File \u001b[0;32m~/Desktop/nomad coders/fullstack-gpt/env/lib/python3.10/site-packages/pydantic/main.py:341\u001b[0m, in \u001b[0;36mpydantic.main.BaseModel.__init__\u001b[0;34m()\u001b[0m\n",
      "\u001b[0;31mValidationError\u001b[0m: 1 validation error for GPT4All\n__root__\n  Failed to retrieve model (type=value_error)"
     ]
    }
   ],
   "source": [
    "from langchain.llms.gpt4all import GPT4All\n",
    "from langchain.prompts import PromptTemplate\n",
    "\n",
    "prompt = PromptTemplate.from_template(\"A {word} is a\")\n",
    "\n",
    "llm = GPT4All(\n",
    "model=\"./falcon.bin\",\n",
    ")\n",
    "\n",
    "chain = prompt | llm\n",
    "\n",
    "chain.invoke({\n",
    "    \"word\": \"toothpick\"\n",
    "})"
   ]
  },
  {
   "cell_type": "markdown",
   "metadata": {},
   "source": []
  },
  {
   "cell_type": "markdown",
   "metadata": {},
   "source": []
  },
  {
   "cell_type": "markdown",
   "metadata": {},
   "source": []
  },
  {
   "cell_type": "code",
   "execution_count": null,
   "metadata": {},
   "outputs": [],
   "source": []
  },
  {
   "cell_type": "code",
   "execution_count": null,
   "metadata": {},
   "outputs": [],
   "source": []
  },
  {
   "cell_type": "code",
   "execution_count": null,
   "metadata": {},
   "outputs": [],
   "source": []
  },
  {
   "cell_type": "markdown",
   "metadata": {},
   "source": []
  }
 ],
 "metadata": {
  "kernelspec": {
   "display_name": "env",
   "language": "python",
   "name": "python3"
  },
  "language_info": {
   "codemirror_mode": {
    "name": "ipython",
    "version": 3
   },
   "file_extension": ".py",
   "mimetype": "text/x-python",
   "name": "python",
   "nbconvert_exporter": "python",
   "pygments_lexer": "ipython3",
   "version": "3.10.6"
  }
 },
 "nbformat": 4,
 "nbformat_minor": 2
}
